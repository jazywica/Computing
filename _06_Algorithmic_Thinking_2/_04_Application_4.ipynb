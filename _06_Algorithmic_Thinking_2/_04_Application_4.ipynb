{
 "cells": [
  {
   "cell_type": "code",
   "execution_count": 1,
   "metadata": {},
   "outputs": [],
   "source": [
    "# -*- encoding: utf-8 -*-\n",
    "\"\"\" Application #4 - Comparing two proteins \"\"\"\n",
    "\n",
    "import math\n",
    "import random\n",
    "import urllib2\n",
    "from itertools import chain\n",
    "import matplotlib.pyplot as plt\n",
    "import _03_Project_4 as student\n",
    "\n",
    "PAM50_URL = \"http://storage.googleapis.com/codeskulptor-alg/alg_PAM50.txt\"\n",
    "HUMAN_EYELESS_URL = \"http://storage.googleapis.com/codeskulptor-alg/alg_HumanEyelessProtein.txt\"\n",
    "FRUITFLY_EYELESS_URL = \"http://storage.googleapis.com/codeskulptor-alg/alg_FruitflyEyelessProtein.txt\"\n",
    "CONSENSUS_PAX_URL = \"http://storage.googleapis.com/codeskulptor-alg/alg_ConsensusPAXDomain.txt\"\n",
    "WORD_LIST_URL = \"http://storage.googleapis.com/codeskulptor-assets/assets_scrabble_words3.txt\""
   ]
  },
  {
   "cell_type": "code",
   "execution_count": 2,
   "metadata": {},
   "outputs": [],
   "source": [
    "# PROVIDED CODE\n",
    "def read_scoring_matrix(filename):\n",
    "    \"\"\" Read a scoring matrix from the file named filename. Argument: name of file containing a scoring matrix. Returns a dictionary of dictionaries mapping X and Y characters to scores \"\"\"\n",
    "    scoring_dict = {}\n",
    "    scoring_file = urllib2.urlopen(filename)\n",
    "    ykeys = scoring_file.readline()\n",
    "    ykeychars = ykeys.split()  # these are all possible characters on top of the matrix (Y values)\n",
    "    for line in scoring_file.readlines():\n",
    "        vals = line.split()  # here we pick up the X values line by line\n",
    "        xkey = vals.pop(0)  # here we remove the first element which is going to be the key for our resulting dictionary\n",
    "        scoring_dict[xkey] = {}  # here we start the dictionary\n",
    "        for ykey, val in zip(ykeychars, vals):\n",
    "            scoring_dict[xkey][ykey] = int(val)  # now for each letter 'xkey' we create a dictionary with its corresponding values\n",
    "    return scoring_dict  # this will return the scoring matrix of this type: {'A' : {'A': 10, 'C': 4, '-': -4, 'T': 4, 'G': 4}, 'G' : {'A': 4, .. }...}\n",
    "\n",
    "\n",
    "def read_protein(filename):\n",
    "    \"\"\" Read a protein sequence from the file named filename. Arguments: filename -- name of file containing a protein sequence. Returns a string representing the protein \"\"\"\n",
    "    protein_file = urllib2.urlopen(filename)\n",
    "    protein_seq = protein_file.read()\n",
    "    protein_seq = protein_seq.rstrip()\n",
    "    return protein_seq\n",
    "\n",
    "\n",
    "def read_words(filename):\n",
    "    \"\"\" Load word list from the file named filename. Returns a list of strings. \"\"\"\n",
    "    word_file = urllib2.urlopen(filename)  # load assets\n",
    "    words = word_file.read()  # read in files as string\n",
    "    word_list = words.split('\\n')  # template lines and solution lines list of line string\n",
    "    print \"Loaded a dictionary with\", len(word_list), \"words\"\n",
    "    return word_list"
   ]
  },
  {
   "cell_type": "code",
   "execution_count": 3,
   "metadata": {},
   "outputs": [
    {
     "name": "stdout",
     "output_type": "stream",
     "text": [
      "Human and fly score after LOCAL alignment: 875\n",
      "Human and fly sequences after LOCAL alignment:\n",
      "HSGVNQLGGVFVNGRPLPDSTRQKIVELAHSGARPCDISRILQVSNGCVSKILGRYYETGSIRPRAIGGSKPRVATPEVVSKIAQYKRECPSIFAWEIRDRLLSEGVCTNDNIPSVSSINRVLRNLASEK-QQ\n",
      "HSGVNQLGGVFVGGRPLPDSTRQKIVELAHSGARPCDISRILQVSNGCVSKILGRYYETGSIRPRAIGGSKPRVATAEVVSKISQYKRECPSIFAWEIRDRLLQENVCTNDNIPSVSSINRVLRNLAAQKEQQ\n"
     ]
    }
   ],
   "source": [
    "# I. COMPARING TWO PROTEINS - In following questions, we compute the similarity between the human and fruit fly versions of the eyeless protein and see if we can identify the PAX domain.\n",
    "def check_sequence(seq_1, seq_2):\n",
    "    \"\"\" Checks two aligned sequences and counts the amount of identical elements \"\"\"\n",
    "    counter = 0\n",
    "    for hum, con in zip(seq_1, seq_2):\n",
    "        if hum == con:\n",
    "            counter += 1\n",
    "    return counter / float(len(seq_1))\n",
    "\n",
    "human = read_protein(HUMAN_EYELESS_URL)\n",
    "fly = read_protein(FRUITFLY_EYELESS_URL)\n",
    "consensus = read_protein(CONSENSUS_PAX_URL)\n",
    "scoring_matrix = read_scoring_matrix(PAM50_URL)\n",
    "\n",
    "\n",
    "# QUESTION 1\n",
    "# First, load the files HumanEyelessProtein and FruitflyEyelessProtein using the provided code. These files contain the amino acid sequences that form the eyeless proteins in the human and fruit fly genomes, respectively.\n",
    "# Then load the scoring matrix PAM50 for sequences of amino acids. This scoring matrix is defined over the alphabet {A,R,N,D,C,Q,E,G,H,I,L,K,M,F,P,S,T,W,Y,V,B,Z,X,-} which represents all possible amino acids and gaps\n",
    "# (the \"dashes\" in the alignment).\n",
    "# Compute the local alignments of the sequences of HumanEyelessProtein and FruitflyEyelessProtein using the PAM50 scoring matrix and enter the score and local alignments for these two sequences below.\n",
    "# Be sure to clearly distinguish which alignment is which and include any dashes (’-’) that might appear in the local alignment. This problem will be assessed according to the following two items:\n",
    "# - Is the score of the local alignment correct? (Hint: The sum of the decimal digits in the score is 20.)\n",
    "# - Are the two sequences in the local alignments (with dashes included if inserted by the algorithm) clearly distinguished and correct?\n",
    "def question_1():\n",
    "    alignment_matrix = student.compute_alignment_matrix(human, fly, scoring_matrix, False)\n",
    "    local_score, local_human, local_fly = student.compute_local_alignment(human, fly, scoring_matrix, alignment_matrix)\n",
    "    print \"Human and fly score after LOCAL alignment:\", local_score\n",
    "    print \"Human and fly sequences after LOCAL alignment:\"\n",
    "    print local_human\n",
    "    print local_fly\n",
    "\n",
    "question_1()\n"
   ]
  },
  {
   "cell_type": "code",
   "execution_count": 4,
   "metadata": {},
   "outputs": [
    {
     "name": "stdout",
     "output_type": "stream",
     "text": [
      "\n",
      "Human and fly against consensus scores after GLOBAL alignment: 613 586\n",
      "Human and fly sequences after GLOBAL alignment:\n",
      "-HSGVNQLGGVFVNGRPLPDSTRQKIVELAHSGARPCDISRILQVSNGCVSKILGRYYETGSIRPRAIGGSKPRVATPEVVSKIAQYKRECPSIFAWEIRDRLLSEGVCTNDNIPSVSSINRVLRNLASEKQQ\n",
      "GHGGVNQLGGVFVNGRPLPDVVRQRIVELAHQGVRPCDISRQLRVSHGCVSKILGRYYETGSIKPGVIGGSKPKVATPKVVEKIAEYKRQNPTMFAWEIRDRLLAERVCDNDTVPSVSSINRIIR--------\n",
      "-HSGVNQLGGVFVGGRPLPDSTRQKIVELAHSGARPCDISRILQVSNGCVSKILGRYYETGSIRPRAIGGSKPRVATAEVVSKISQYKRECPSIFAWEIRDRLLQENVCTNDNIPSVSSINRVLRNLAAQKEQQ\n",
      "GHGGVNQLGGVFVNGRPLPDVVRQRIVELAHQGVRPCDISRQLRVSHGCVSKILGRYYETGSIKPGVIGGSKPKVATPKVVEKIAEYKRQNPTMFAWEIRDRLLAERVCDNDTVPSVSSINRIIR---------\n",
      "Human/consensus alignment match:  72.9%\n",
      "Fly/consensus alignment match:  70.1%\n"
     ]
    }
   ],
   "source": [
    "# QUESTION 2\n",
    "# Load the file ConsensusPAXDomain. For each of the two sequences of the local alignment computed in Question 1, do the following:\n",
    "# - Delete any dashes ’-’ present in the sequence.\n",
    "# - Compute the global alignment of this dash-less sequence with the ConsensusPAXDomain sequence.\n",
    "# - Compare corresponding elements of these two globally-aligned sequences (local vs. consensus) and compute the percentage of elements in these two sequences that agree.\n",
    "# To reiterate, you will compute the global alignments of local human vs. consensus PAX domain as well as local fruitfly vs. consensus PAX domain. Your answer should be two percentages: one for each global alignment.\n",
    "# Enter each percentage below. Be sure to label each answer clearly and include three significant digits of precision.\n",
    "def question_2():\n",
    "    alignment_matrix = student.compute_alignment_matrix(human, fly, scoring_matrix, False)\n",
    "    local_score, local_human, local_fly = student.compute_local_alignment(human, fly, scoring_matrix, alignment_matrix)\n",
    "\n",
    "    local_human_stripped = local_human.replace('-', '')\n",
    "    local_fly_stripped = local_fly.replace('-', '')\n",
    "    alignment_matrix_h = student.compute_alignment_matrix(local_human_stripped , consensus, scoring_matrix, True)\n",
    "    alignment_matrix_f = student.compute_alignment_matrix(local_fly_stripped, consensus, scoring_matrix, True)\n",
    "\n",
    "    global_score_h, global_human, global_cons_h = student.compute_global_alignment(local_human_stripped, consensus, scoring_matrix, alignment_matrix_h)\n",
    "    global_score_f, global_fly, global_cons_f = student.compute_global_alignment(local_fly_stripped, consensus, scoring_matrix, alignment_matrix_f)\n",
    "    print \"\\nHuman and fly against consensus scores after GLOBAL alignment:\", global_score_h, global_score_f\n",
    "    print \"Human and fly sequences after GLOBAL alignment:\"\n",
    "    print global_human; print global_cons_h; print global_fly; print global_cons_f\n",
    "    print \"Human/consensus alignment match: \", \"{0:.1%}\".format(check_sequence(global_human, global_cons_h))\n",
    "    print \"Fly/consensus alignment match: \", \"{0:.1%}\".format(check_sequence(global_fly, global_cons_f))\n",
    "\n",
    "question_2()"
   ]
  },
  {
   "cell_type": "code",
   "execution_count": 5,
   "metadata": {},
   "outputs": [
    {
     "name": "stdout",
     "output_type": "stream",
     "text": [
      "6.97324628954e-101\n",
      "8.17334641624e-133\n",
      "0\n"
     ]
    }
   ],
   "source": [
    "# QUESTION 3\n",
    "# Examine your answers to Questions 1 and 2. Is it likely that the level of similarity exhibited by the answers could have been due to chance? In particular, if you were comparing two random sequences of\n",
    "# amino acids of length similar to that of HumanEyelessProtein and FruitflyEyelessProtein, would the level of agreement in these answers be likely? To help you in your analysis, there are 23 amino acids with symbols in\n",
    "# the string \"ACBEDGFIHKMLNQPSRTWVYXZ\". Include a short justification for your answer.\n",
    "def question_3():\n",
    "    ALPHABET = \"ACBEDGFIHKMLNQPSRTWVYXZ\"\n",
    "    ALPHABET_SIZE = 23\n",
    "    SEQ_LENGTH = 133\n",
    "    MIN_MATCHES = 97\n",
    "\n",
    "    # Approach no 1: compute probability of terms MIN_MATCHES or more characters matching out of a sequence of SEQ_LENGTH\n",
    "    def binomial_term(matches, total_length, alphabet_size):\n",
    "        \"\"\" Compute terms of the binomial expansion with probability equal to one over alphabet size \"\"\"\n",
    "        prob = 1.0 / float(alphabet_size)\n",
    "        non_matches = total_length - matches\n",
    "        combinations = (math.factorial(total_length) / (math.factorial(matches) * math.factorial(non_matches)))  # this is the famous [m / n] for calculating combinations of size n (number of matches(71% of m) in this case)\n",
    "        return combinations * (prob ** matches) * (1 - prob) ** (non_matches)\n",
    "\n",
    "    print sum([binomial_term(possible_matches, SEQ_LENGTH, ALPHABET_SIZE) for possible_matches in range(MIN_MATCHES, SEQ_LENGTH + 1)])\n",
    "\n",
    "    # Approach no 1a: simplified computation of matching one sequence with 97 letters\n",
    "    print (1 / float(ALPHABET_SIZE)) ** MIN_MATCHES\n",
    "\n",
    "    # Approach no 2: Monte-Carlo type of test\n",
    "    def monte_carlo(samples, treshold):\n",
    "        total = 0\n",
    "        for i in range(samples):\n",
    "            seq1 = \"\"\n",
    "            seq2 = \"\"\n",
    "            for letter in range(SEQ_LENGTH):\n",
    "                seq1 += random.choice(ALPHABET)\n",
    "                seq2 += random.choice(ALPHABET)\n",
    "            if check_sequence(seq1, seq2) >= treshold:  # this is a simple test\n",
    "                total += 1\n",
    "        return total\n",
    "\n",
    "    print monte_carlo(10**5, 0.71)  # not a single hit on a 10^5 trials - this means that the probability of random match occurance is very small\n",
    "\n",
    "question_3()\n",
    "\n",
    "# The sequence similarity is not coincidental. The approximated probability of a random match for 71% of elements from the entire sequence is (1/23)^98 which is 3*10^-134. This is way smaller than the result from Question 2.\n"
   ]
  },
  {
   "cell_type": "code",
   "execution_count": 6,
   "metadata": {},
   "outputs": [
    {
     "data": {
      "image/png": "[encoded data removed]",
      "text/plain": [
       "<Figure size 432x288 with 1 Axes>"
      ]
     },
     "metadata": {
      "needs_background": "light"
     },
     "output_type": "display_data"
    }
   ],
   "source": [
    "# II. HYPOTHESIS TESTING - In the next two questions, we will consider a more mathematical approach to answering Question 3 that avoids this assumption. In particular, we will take an approach known as statistical\n",
    "# hypothesis testing to determine whether the local alignments computed in Question 1 are statistically significant (that is, that the probability that they could have arisen by chance is extremely small).\n",
    "\n",
    "# QUESTION 4\n",
    "# Write a function generate_null_distribution(seq_x,seq_y,scoring_matrix,num_trials) that takes as input two sequences 'seq_x' and 'seq_y', a scoring_matrix 'scoring_matrix', and a number of trials 'num_trials':\n",
    "# - Generate a random permutation rand_y of the sequence seq_y using random.shuffle().\n",
    "# - Compute the maximum value 'score' for the local alignment of seq_x and rand_y using the score matrix scoring_matrix.\n",
    "# - Increment the entry score in the dictionary 'scoring_distribution' by one.\n",
    "# Use the function 'generate_null_distribution' to create a distribution with 1000 trials using the protein sequences HumanEyelessProtein and FruitflyEyelessProtein (using the PAM50 scoring matrix).\n",
    "# Important: Use HumanEyelessProtein as the first parameter (which stays fixed) and FruitflyEyelessProtein as the second parameter seq_y (which is randomly shuffled) when calling 'generate_null_distribution'.\n",
    "# Next, create a bar plot of the normalized version of this distribution using plt.bar in matplotlib (or your favorite plotting tool). (You will probably find CodeSkulptor too slow to do the required number of trials.)\n",
    "# The horizontal axis should be the scores and the vertical axis should be the fraction of total trials corresponding to each score. As usual, choose reasonable labels for the axes and title\n",
    "def generate_null_distribution(seq_x, seq_y, scoring_matrix, num_trials):\n",
    "    scoring_distribution = {}\n",
    "    for trial in range(num_trials):\n",
    "        rand_y = list(seq_y)\n",
    "        random.shuffle(rand_y)\n",
    "        alignment_matrix = student.compute_alignment_matrix(seq_x, rand_y, scoring_matrix, False)  # here we mix the real data with a randomly shuffled sequence x\n",
    "        local_score, local_human, local_fly = student.compute_local_alignment(seq_x, rand_y, scoring_matrix, alignment_matrix)\n",
    "        if local_score not in scoring_distribution:\n",
    "            scoring_distribution[local_score] = 1\n",
    "        else:\n",
    "            scoring_distribution[local_score] += 1\n",
    "\n",
    "    return scoring_distribution\n",
    "\n",
    "def question_4():\n",
    "    distribution = generate_null_distribution(human, fly, scoring_matrix, 1000)  # this takes too long to compute, so we use a copy below\n",
    "    x_sorted = sorted(distribution.keys())\n",
    "    y_sorted = [distribution[x] / float(1000) for x in x_sorted]  # the normalized version is split over the total amount of scores, which is 1000\n",
    "    plt.title('Normalized distribution of hypothesis test for 1000 trials')\n",
    "    plt.xlabel('scores')\n",
    "    plt.ylabel('trials')\n",
    "    plt.bar(x_sorted, y_sorted)\n",
    "    plt.show()\n",
    "\n",
    "question_4()"
   ]
  },
  {
   "cell_type": "code",
   "execution_count": 7,
   "metadata": {},
   "outputs": [
    {
     "name": "stdout",
     "output_type": "stream",
     "text": [
      "the mean value is : 51.262\n",
      "the standard deviation is : 6.50856020945\n",
      "the z-value is : 126.562246256\n",
      "the match of the random data is off (3 x stdv) by approx. : 42 times\n"
     ]
    }
   ],
   "source": [
    "# QUESTION 5\n",
    "# Given the distribution computed in Question 4, we can do some very basic statistical analysis of this distribution to help us understand how likely the local alignment score from Question 1 is.\n",
    "# To this end, we first compute the mean μ and the standard deviation σ of this distribution.\n",
    "# The z-score helps quantify the likelihood of the score 's' being a product of chance. Small z-scores indicate a greater likelihood that the local alignment score was due to chance while larger scores\n",
    "# indicate a lower likelihood that the local alignment score was due to chance.\n",
    "# What are the mean and standard deviation for the distribution that you computed in Question 4?\n",
    "# What is the z-score for the local alignment for the human eyeless protein vs. the fruitfly eyeless protein based on these values?\n",
    "def question_5():\n",
    "    # distribution = generate_null_distribution(human, fly, scoring_matrix, 1000)  # this takes too long to compute, so we use a copy below\n",
    "    distribution = {39: 4, 40: 5, 41: 15, 42: 24, 43: 28, 44: 39, 45: 52, 46: 70, 47: 71, 48: 65, 49: 74, 50: 77, 51: 67, 52: 63, 53: 59, 54: 32, 55: 41, 56: 35, 57: 29, 58: 20, 59: 21, 60: 22, 61: 12, 62: 12, 63: 11, 64: 5, 65: 7, 66: 6, 67: 4, 68: 11, 69: 5, 70: 3, 71: 3, 72: 1, 74: 1, 75: 2, 77: 1, 78: 1, 80: 2}\n",
    "    scores = list(chain.from_iterable([x] * distribution[x] for x in distribution))  # this creates an appropriate number of scores acording to the 'distribution' dictionary\n",
    "    alignment_matrix = student.compute_alignment_matrix(human, fly, scoring_matrix, False)  # the actual local score between human and fly is needed for the z-value\n",
    "    local_score, local_human, local_fly = student.compute_local_alignment(human, fly, scoring_matrix, alignment_matrix)\n",
    "\n",
    "    mean = sum(scores) / float(len(scores))\n",
    "    stdev = math.sqrt(sum((score - mean)**2 for score in scores) / float(len(scores)))\n",
    "    # Small z-scores indicate a greater likelihood that the local alignment score was due to chance while larger scores indicate a lower likelihood that the local alignment score was due to chance.\n",
    "    z = local_score - mean  # the nominator itself is very big, which excludes the randomness\n",
    "    z_value = (local_score - mean) / stdev  # here we divide it by the standard deviation to see how many standard deviations the test result is off by\n",
    "    print \"the mean value is :\", mean\n",
    "    print \"the standard deviation is :\", stdev\n",
    "    print \"the z-value is :\", z_value  # The z-score helps quantify the likelihood of the score 's' being a product of chance.\n",
    "    print \"the match of the random data is off (3 x stdv) by approx. :\", int(z / (3 * stdev)), \"times\"\n",
    "\n",
    "question_5()"
   ]
  },
  {
   "cell_type": "code",
   "execution_count": 8,
   "metadata": {},
   "outputs": [],
   "source": [
    "# QUESTION 6\n",
    "# For bell-shaped distributions such as the normal distribution, the likelihood that an observation will fall within three multiples of the standard deviation for such distributions is very high.\n",
    "# Based on your answers to Questions 4 and 5, is the score resulting from the local alignment of the HumanEyelessProtein and the FruitflyEyelessProtein due to chance? As a concrete question, which is more likely:\n",
    "# the similarity between the human eyeless protein and the fruitfly eyeless protein being due to chance or winning the jackpot in an extremely large lottery? Provide a short explanation for your answers.\n",
    "\n",
    "# The random data match has a normal distribution and can be analyzed as such. The 'z' value in our test shows that the mean score is off by 126 standard deviatons from the true value, where the expected max. is 3 times\n",
    "# standard deviation. This means that test result is 42 times further than possible. The probability is really small.\n",
    "# The probability of winning the jackpot is approx 14*10^-6, which is way bigger (more likely) than the one of getting a random sequence match."
   ]
  },
  {
   "cell_type": "code",
   "execution_count": 9,
   "metadata": {},
   "outputs": [
    {
     "name": "stdout",
     "output_type": "stream",
     "text": [
      "True\n",
      "True\n",
      "True\n",
      "True\n",
      "True\n",
      "True\n"
     ]
    }
   ],
   "source": [
    "# QUESTION 7\n",
    "# The edit distance for two strings x and y can be expressed in terms of the lengths of the two strings and their corresponding similarity score as follows: ∣x∣+∣y∣−score(x,y)\n",
    "# where score(x,y) is the score returned by the global alignment of these two strings using a very simple scoring matrix that can be computed using build_scoring_matrix.\n",
    "# Determine the values for diag_score, off_diag_score, and dash_score such that the score from the resulting global alignment yields the edit distance when substituted into the formula above.\n",
    "# Be sure to indicate which values corresponds to which parameters\n",
    "def question_7():\n",
    "    def calculate_distance(w1, w2):\n",
    "        scoring_matrix = student.build_scoring_matrix(set(w1) | set(w2), 2, 1, 0)  # the dash score has to be zero, so there is only a case of manipulating diag and off\n",
    "        alignment_matrix = student.compute_alignment_matrix(w1, w2, scoring_matrix, True)\n",
    "        score, x, y = student.compute_global_alignment(w1, w2, scoring_matrix, alignment_matrix)\n",
    "        # print \"Lengths:\", len(w1) + len(w2), \", Score:\", score, \", Words:\", x, y\n",
    "        return len(w1) + len(w2) - score\n",
    "\n",
    "    print(calculate_distance(\"a\", \"a\") == 0)  # no action needed\n",
    "    print(calculate_distance(\"aa\", \"aa\") == 0)  # no action needed\n",
    "    print(calculate_distance(\"aaa\", \"aba\") == 1)  # one Substitution needed\n",
    "    print(calculate_distance(\"aaaa\", \"abba\") == 2)  # two Substitutions needed\n",
    "    print(calculate_distance(\"aaaa\", \"aaa\") == 1)  # one Insertion or Deletion needed\n",
    "    print(calculate_distance(\"aaaa\", \"aa\") == 2)  # two Insertions or Deletions needed\n",
    "\n",
    "    # Answers:\n",
    "    # diag_score is: 2  #  If two non-dash characters agree, the scoring matrix scores that match as 2. Note that these two matching characters also increase the size of |x∣+∣y∣ by exactly two, leading to no increase in the edit distance.\n",
    "    # off_diag_score is: 1\n",
    "    # dash_score is: 0\n",
    "\n",
    "question_7()"
   ]
  },
  {
   "cell_type": "code",
   "execution_count": 12,
   "metadata": {},
   "outputs": [
    {
     "name": "stdout",
     "output_type": "stream",
     "text": [
      "Loaded a dictionary with 79340 words\n",
      "Found words with distance 1 from 'humble':\n",
      "['bumble', 'fumble', 'humble', 'humbled', 'humbler', 'humbles', 'humbly', 'jumble', 'mumble', 'rumble', 'tumble']\n",
      "Found words with distance 2 from 'firefly':\n",
      "['direly', 'finely', 'fireclay', 'firefly', 'firmly', 'firstly', 'fixedly', 'freely', 'liefly', 'refly', 'tiredly']\n"
     ]
    }
   ],
   "source": [
    "# QUESTION 8\n",
    "# In practice, edit distance is a useful tool in applications such as spelling correction and plagiarism detection where determining whether two strings are similar/dissimilar is important.\n",
    "# For this final question, we will implement a simple spelling correction function that uses edit distance to determine whether a given string is the misspelling of a word.\n",
    "# To begin, load the list of 79339 words. Then, write a function check_spelling(checked_word, dist, word_list) that iterates through word_list and returns the set of all words that are within edit distance\n",
    "# 'dist' of the string 'checked_word'. Use your function 'check_spelling' to compute the set of words within an edit distance of one from the string \"humble\" and the set of words within an edit distance of two from\n",
    "# the string \"firefly\". (Note this is not \"fruitfly\".). Enter these two sets of words in the box below. As quick check, both sets should include eleven words.\n",
    "def question_8():\n",
    "    word_list = read_words(WORD_LIST_URL)\n",
    "    def check_spelling(checked_word, dist, word_list):\n",
    "        scoring_matrix = student.build_scoring_matrix(set(checked_word) | set(chain.from_iterable(word_list)), 2, 1, 0)\n",
    "        spelling = []\n",
    "\n",
    "        for word in word_list:\n",
    "            alignment_matrix = student.compute_alignment_matrix(checked_word, word, scoring_matrix, True)\n",
    "            score, dummy_x, dummy_y = student.compute_global_alignment(checked_word, word, scoring_matrix, alignment_matrix)\n",
    "            distance = len(checked_word) + len(word) - score\n",
    "            if distance <= dist:\n",
    "                spelling.append(word)\n",
    "        return spelling\n",
    "\n",
    "    print \"Found words with distance 1 from 'humble':\\n\", check_spelling(\"humble\", 1, word_list)\n",
    "    print \"Found words with distance 2 from 'firefly':\\n\", check_spelling(\"firefly\", 2, word_list)\n",
    "\n",
    "question_8()"
   ]
  }
 ],
 "metadata": {
  "kernelspec": {
   "display_name": "Python 2",
   "language": "python",
   "name": "python2"
  },
  "language_info": {
   "codemirror_mode": {
    "name": "ipython",
    "version": 2
   },
   "file_extension": ".py",
   "mimetype": "text/x-python",
   "name": "python",
   "nbconvert_exporter": "python",
   "pygments_lexer": "ipython2",
   "version": "2.7.14"
  }
 },
 "nbformat": 4,
 "nbformat_minor": 2
}
